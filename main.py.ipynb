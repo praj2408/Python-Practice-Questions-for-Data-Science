{
 "cells": [
  {
   "cell_type": "markdown",
   "id": "33ea676e",
   "metadata": {},
   "source": [
    "# Python Practice"
   ]
  },
  {
   "cell_type": "code",
   "execution_count": null,
   "id": "42ce9e1e",
   "metadata": {},
   "outputs": [],
   "source": []
  },
  {
   "cell_type": "markdown",
   "id": "c495ef72",
   "metadata": {},
   "source": [
    "### 1. User will input (3ages).Find the oldest one"
   ]
  },
  {
   "cell_type": "code",
   "execution_count": 1,
   "id": "3a0f66f2",
   "metadata": {},
   "outputs": [
    {
     "name": "stdout",
     "output_type": "stream",
     "text": [
      "Enter the first age: 12\n",
      "Enter the second age: 23\n",
      "Enter the third age: 45\n",
      "The age of oldest one is: 45\n"
     ]
    }
   ],
   "source": [
    "age1 = int(input(\"Enter the first age: \"))\n",
    "age2 = int(input(\"Enter the second age: \"))\n",
    "age3 = int(input(\"Enter the third age: \"))\n",
    "\n",
    "ages = [age1, age2, age3]\n",
    "\n",
    "print(f\"The age of oldest one is: {max(ages)}\")"
   ]
  },
  {
   "cell_type": "code",
   "execution_count": null,
   "id": "1a24e025",
   "metadata": {},
   "outputs": [],
   "source": []
  },
  {
   "cell_type": "markdown",
   "id": "fd9421aa",
   "metadata": {},
   "source": [
    "### 2. Write a program that will convert celsius value to fahrenheit\n"
   ]
  },
  {
   "cell_type": "code",
   "execution_count": 2,
   "id": "2e614cde",
   "metadata": {},
   "outputs": [],
   "source": [
    "def fahrenhiet(celcius):\n",
    "    return celcius*33.8"
   ]
  },
  {
   "cell_type": "code",
   "execution_count": 3,
   "id": "92a59300",
   "metadata": {},
   "outputs": [
    {
     "data": {
      "text/plain": [
       "101.39999999999999"
      ]
     },
     "execution_count": 3,
     "metadata": {},
     "output_type": "execute_result"
    }
   ],
   "source": [
    "fahrenhiet(3)"
   ]
  },
  {
   "cell_type": "code",
   "execution_count": null,
   "id": "811e192d",
   "metadata": {},
   "outputs": [],
   "source": []
  },
  {
   "cell_type": "markdown",
   "id": "2bf32cc1",
   "metadata": {},
   "source": [
    "### 3.User will input (2numbers).Write a program to swap the numbers"
   ]
  },
  {
   "cell_type": "code",
   "execution_count": 5,
   "id": "0d810de9",
   "metadata": {},
   "outputs": [
    {
     "name": "stdout",
     "output_type": "stream",
     "text": [
      "Enter the first number: 1\n",
      "Enter the second number: 2\n",
      " the swaped numbers are: (2, 1)\n"
     ]
    }
   ],
   "source": [
    "a = int(input(\"Enter the first number: \"))\n",
    "b = int(input(\"Enter the second number: \"))\n",
    "\n",
    "c = a\n",
    "a = b\n",
    "b = c\n",
    "\n",
    "print(f\" the swaped numbers are: {a, b}\")"
   ]
  },
  {
   "cell_type": "code",
   "execution_count": null,
   "id": "fa6adfcb",
   "metadata": {},
   "outputs": [],
   "source": []
  },
  {
   "cell_type": "code",
   "execution_count": null,
   "id": "d1439ef9",
   "metadata": {},
   "outputs": [],
   "source": []
  },
  {
   "cell_type": "code",
   "execution_count": null,
   "id": "3109c898",
   "metadata": {},
   "outputs": [],
   "source": []
  },
  {
   "cell_type": "code",
   "execution_count": null,
   "id": "2ba7b14e",
   "metadata": {},
   "outputs": [],
   "source": []
  },
  {
   "cell_type": "code",
   "execution_count": null,
   "id": "b2213d1f",
   "metadata": {},
   "outputs": [],
   "source": []
  },
  {
   "cell_type": "code",
   "execution_count": null,
   "id": "4be23b31",
   "metadata": {},
   "outputs": [],
   "source": []
  }
 ],
 "metadata": {
  "kernelspec": {
   "display_name": "Python 3 (ipykernel)",
   "language": "python",
   "name": "python3"
  },
  "language_info": {
   "codemirror_mode": {
    "name": "ipython",
    "version": 3
   },
   "file_extension": ".py",
   "mimetype": "text/x-python",
   "name": "python",
   "nbconvert_exporter": "python",
   "pygments_lexer": "ipython3",
   "version": "3.11.4"
  }
 },
 "nbformat": 4,
 "nbformat_minor": 5
}
