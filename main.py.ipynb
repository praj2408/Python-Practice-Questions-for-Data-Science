{
 "cells": [
  {
   "cell_type": "markdown",
   "id": "33ea676e",
   "metadata": {},
   "source": [
    "# Python Practice"
   ]
  },
  {
   "cell_type": "code",
   "execution_count": null,
   "id": "42ce9e1e",
   "metadata": {},
   "outputs": [],
   "source": []
  },
  {
   "cell_type": "markdown",
   "id": "3fabea77",
   "metadata": {},
   "source": [
    "### 1. User will input (3ages).Find the oldest one"
   ]
  },
  {
   "cell_type": "code",
   "execution_count": 1,
   "id": "3a0f66f2",
   "metadata": {},
   "outputs": [
    {
     "name": "stdout",
     "output_type": "stream",
     "text": [
      "Enter the first age: 12\n",
      "Enter the second age: 23\n",
      "Enter the third age: 45\n",
      "The age of oldest one is: 45\n"
     ]
    }
   ],
   "source": [
    "age1 = int(input(\"Enter the first age: \"))\n",
    "age2 = int(input(\"Enter the second age: \"))\n",
    "age3 = int(input(\"Enter the third age: \"))\n",
    "\n",
    "ages = [age1, age2, age3]\n",
    "\n",
    "print(f\"The age of oldest one is: {max(ages)}\")"
   ]
  },
  {
   "cell_type": "code",
   "execution_count": null,
   "id": "1a24e025",
   "metadata": {},
   "outputs": [],
   "source": []
  },
  {
   "cell_type": "markdown",
   "id": "2db72ec7",
   "metadata": {},
   "source": [
    "### 2. Write a program that will convert celsius value to fahrenheit\n"
   ]
  },
  {
   "cell_type": "code",
   "execution_count": 2,
   "id": "2e614cde",
   "metadata": {},
   "outputs": [],
   "source": [
    "def fahrenhiet(celcius):\n",
    "    return celcius*33.8"
   ]
  },
  {
   "cell_type": "code",
   "execution_count": 3,
   "id": "92a59300",
   "metadata": {},
   "outputs": [
    {
     "data": {
      "text/plain": [
       "101.39999999999999"
      ]
     },
     "execution_count": 3,
     "metadata": {},
     "output_type": "execute_result"
    }
   ],
   "source": [
    "fahrenhiet(3)"
   ]
  },
  {
   "cell_type": "code",
   "execution_count": null,
   "id": "811e192d",
   "metadata": {},
   "outputs": [],
   "source": []
  },
  {
   "cell_type": "markdown",
   "id": "5cfe4217",
   "metadata": {},
   "source": [
    "### 3.User will input (2numbers).Write a program to swap the numbers"
   ]
  },
  {
   "cell_type": "code",
   "execution_count": 5,
   "id": "0d810de9",
   "metadata": {},
   "outputs": [
    {
     "name": "stdout",
     "output_type": "stream",
     "text": [
      "Enter the first number: 1\n",
      "Enter the second number: 2\n",
      " the swaped numbers are: (2, 1)\n"
     ]
    }
   ],
   "source": [
    "a = int(input(\"Enter the first number: \"))\n",
    "b = int(input(\"Enter the second number: \"))\n",
    "\n",
    "c = a\n",
    "a = b\n",
    "b = c\n",
    "\n",
    "print(f\" the swaped numbers are: {a, b}\")"
   ]
  },
  {
   "cell_type": "code",
   "execution_count": null,
   "id": "fa6adfcb",
   "metadata": {},
   "outputs": [],
   "source": []
  },
  {
   "cell_type": "markdown",
   "id": "2a0f9ea7",
   "metadata": {},
   "source": [
    "### 4. Write a program that will give you the sum of 3 digits"
   ]
  },
  {
   "cell_type": "code",
   "execution_count": 6,
   "id": "3109c898",
   "metadata": {},
   "outputs": [],
   "source": [
    "def sum(num1, num2, num3):\n",
    "    return num1+num2+num3"
   ]
  },
  {
   "cell_type": "code",
   "execution_count": 7,
   "id": "2ba7b14e",
   "metadata": {},
   "outputs": [
    {
     "data": {
      "text/plain": [
       "60"
      ]
     },
     "execution_count": 7,
     "metadata": {},
     "output_type": "execute_result"
    }
   ],
   "source": [
    "sum(10,20, 30)"
   ]
  },
  {
   "cell_type": "code",
   "execution_count": null,
   "id": "b2213d1f",
   "metadata": {},
   "outputs": [],
   "source": []
  },
  {
   "cell_type": "markdown",
   "id": "a3c23b55",
   "metadata": {},
   "source": [
    "### 5. Write a program that will reverse a four digit number.Also it checks whether the reverse is true."
   ]
  },
  {
   "cell_type": "code",
   "execution_count": 11,
   "id": "729f9d8c",
   "metadata": {},
   "outputs": [
    {
     "name": "stdout",
     "output_type": "stream",
     "text": [
      "4321\n"
     ]
    }
   ],
   "source": [
    "a = 1234\n",
    "a_str = str(a)\n",
    "\n",
    "print(a_str[::-1])"
   ]
  },
  {
   "cell_type": "code",
   "execution_count": null,
   "id": "d2e1086f",
   "metadata": {},
   "outputs": [],
   "source": []
  },
  {
   "cell_type": "markdown",
   "id": "ced1c48e",
   "metadata": {},
   "source": [
    "### 6. Write a program that will tell whether the number entered by the user is odd or even."
   ]
  },
  {
   "cell_type": "code",
   "execution_count": 12,
   "id": "742e17db",
   "metadata": {},
   "outputs": [],
   "source": [
    "def even_odd(num):\n",
    "    \n",
    "    if num % 2==0:\n",
    "        print(\"The entered number is even\")\n",
    "    else:\n",
    "        print(\"The entered number is odd\")"
   ]
  },
  {
   "cell_type": "code",
   "execution_count": 15,
   "id": "dc058d58",
   "metadata": {},
   "outputs": [
    {
     "name": "stdout",
     "output_type": "stream",
     "text": [
      "The entered number is odd\n"
     ]
    }
   ],
   "source": [
    "even_odd(7)"
   ]
  },
  {
   "cell_type": "code",
   "execution_count": null,
   "id": "feb266e5",
   "metadata": {},
   "outputs": [],
   "source": []
  },
  {
   "cell_type": "markdown",
   "id": "5ebe72d6",
   "metadata": {},
   "source": [
    "### 7. Write a program that will tell whether the given year is a leap year or not.\n"
   ]
  },
  {
   "cell_type": "code",
   "execution_count": null,
   "id": "77f0c928",
   "metadata": {},
   "outputs": [],
   "source": []
  },
  {
   "cell_type": "code",
   "execution_count": null,
   "id": "d3f4de16",
   "metadata": {},
   "outputs": [],
   "source": []
  },
  {
   "cell_type": "code",
   "execution_count": null,
   "id": "c3f48648",
   "metadata": {},
   "outputs": [],
   "source": []
  },
  {
   "cell_type": "code",
   "execution_count": null,
   "id": "857ab681",
   "metadata": {},
   "outputs": [],
   "source": []
  },
  {
   "cell_type": "code",
   "execution_count": null,
   "id": "9cdb8f86",
   "metadata": {},
   "outputs": [],
   "source": [
    "8. Write a program to find the euclidean distance between two\n",
    "coordinates.\n"
   ]
  },
  {
   "cell_type": "code",
   "execution_count": null,
   "id": "a9747d3f",
   "metadata": {},
   "outputs": [],
   "source": []
  },
  {
   "cell_type": "code",
   "execution_count": null,
   "id": "8d5c1792",
   "metadata": {},
   "outputs": [],
   "source": [
    "9. Write a program that take a user inputr of three angles and will\n",
    "find out whether it can form a triangle or not."
   ]
  },
  {
   "cell_type": "code",
   "execution_count": null,
   "id": "25ecbb60",
   "metadata": {},
   "outputs": [],
   "source": []
  },
  {
   "cell_type": "code",
   "execution_count": null,
   "id": "4f1190eb",
   "metadata": {},
   "outputs": [],
   "source": [
    "10. Write a program that will take user input of cost price and selling\n",
    "price and determines whether its a loss or a profit\n"
   ]
  },
  {
   "cell_type": "code",
   "execution_count": null,
   "id": "13ba0c7b",
   "metadata": {},
   "outputs": [],
   "source": []
  },
  {
   "cell_type": "code",
   "execution_count": null,
   "id": "4bd577da",
   "metadata": {},
   "outputs": [],
   "source": []
  },
  {
   "cell_type": "code",
   "execution_count": null,
   "id": "48a3d0e9",
   "metadata": {},
   "outputs": [],
   "source": [
    "11. Write a program to find the simple interest when the value of\n",
    "principle,rate of interest and time period is given."
   ]
  },
  {
   "cell_type": "code",
   "execution_count": null,
   "id": "faf2d7ac",
   "metadata": {},
   "outputs": [],
   "source": []
  },
  {
   "cell_type": "code",
   "execution_count": null,
   "id": "2459c818",
   "metadata": {},
   "outputs": [],
   "source": []
  },
  {
   "cell_type": "code",
   "execution_count": null,
   "id": "4b4f27bf",
   "metadata": {},
   "outputs": [],
   "source": [
    "12. Write a program to find the volume of the cylinder. Also find the\n",
    "cost when ,when the cost of 1litre milk is 40Rs."
   ]
  },
  {
   "cell_type": "code",
   "execution_count": null,
   "id": "c901ba7d",
   "metadata": {},
   "outputs": [],
   "source": []
  },
  {
   "cell_type": "code",
   "execution_count": null,
   "id": "5f247ceb",
   "metadata": {},
   "outputs": [],
   "source": [
    "13. Write a program that will tell whether the given number is divisible\n",
    "by 3 & 6.\n"
   ]
  }
 ],
 "metadata": {
  "kernelspec": {
   "display_name": "Python 3 (ipykernel)",
   "language": "python",
   "name": "python3"
  },
  "language_info": {
   "codemirror_mode": {
    "name": "ipython",
    "version": 3
   },
   "file_extension": ".py",
   "mimetype": "text/x-python",
   "name": "python",
   "nbconvert_exporter": "python",
   "pygments_lexer": "ipython3",
   "version": "3.11.4"
  }
 },
 "nbformat": 4,
 "nbformat_minor": 5
}
